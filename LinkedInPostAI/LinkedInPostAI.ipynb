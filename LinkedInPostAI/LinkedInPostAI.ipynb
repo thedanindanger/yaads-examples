{
 "cells": [
  {
   "cell_type": "code",
   "execution_count": 36,
   "metadata": {},
   "outputs": [],
   "source": [
    "import os\n",
    "import requests\n",
    "from io import BytesIO\n",
    "import openai\n",
    "import pandas as pd\n",
    "import importlib\n",
    "import time \n"
   ]
  },
  {
   "attachments": {},
   "cell_type": "markdown",
   "metadata": {},
   "source": [
    "# Process\n",
    "```mermaid\n",
    "graph TD\n",
    "    A(LinkedIn Export) -->|Python| B(Cleaned Posts)\n",
    "    B -->|OpenAI CLI| C(JSON Format Posts)\n",
    "    C -->|Curie| D(Summaries)\n",
    "    B -->|Python| E(Merged Posts + Summaries)\n",
    "    D -->|Python| E(Merged Posts + Summaries)\n",
    "    E -->|OpenAI CLI| F(JSON Post + Summaries)\n",
    "    F -->|Davinci fine tuning| G(Fine Tuned Model)\n",
    "```"
   ]
  },
  {
   "cell_type": "code",
   "execution_count": 7,
   "metadata": {},
   "outputs": [],
   "source": [
    "import src.utils.DataCleaning as dc\n"
   ]
  },
  {
   "cell_type": "code",
   "execution_count": null,
   "metadata": {},
   "outputs": [],
   "source": [
    "importlib.reload(dc)\n",
    "#testing\n",
    "shares = dc.loadLinkedInSharesData('./src/local_data/shares.csv')\n",
    "shares.head()"
   ]
  },
  {
   "cell_type": "code",
   "execution_count": 32,
   "metadata": {},
   "outputs": [
    {
     "name": "stdout",
     "output_type": "stream",
     "text": [
      "If you're dealing with zip codes in your data analysis, here's a quick video that goes over the process of treating numbers like text. \n",
      "\n",
      "#licreatoraccelerator #linkedincreator #linkedincreatoraccelerator #datanalysis #datanalytics #yaads #datascience \n",
      "\n"
     ]
    }
   ],
   "source": [
    "#build workflow for cleaning\n",
    "##only need ShareCommentary field\n",
    "sample_posts = pd.DataFrame(columns=['prompt', 'completion'])\n",
    "sample_posts['completion'] = shares['ShareCommentary'].str.translate(str.maketrans('', '', '\"'))\n",
    "print(sample_posts['completion'][1])\n",
    "## output has strange double quotes around each line, eventually we can try to identify intended quotes, but for now, we'll get rid of all of them\n"
   ]
  },
  {
   "cell_type": "code",
   "execution_count": 55,
   "metadata": {},
   "outputs": [],
   "source": [
    "# Now a series of 'prompts' asking to summarize the linked in posts as a chatgpt3 prompt.\n",
    "\n",
    "summarize_prefix = \" Summarize the following linkedin post for a chatgpt3 prompt, start prompt with 'A LinkedIn post about': \\n \"\n",
    "\n",
    "summary_posts = summarize_prefix + sample_posts['completion'] \n"
   ]
  },
  {
   "cell_type": "code",
   "execution_count": 56,
   "metadata": {},
   "outputs": [
    {
     "data": {
      "text/plain": [
       "\" Summarize the following linkedin post for a chatgpt3 prompt, start prompt with 'A LinkedIn post about': \\n If you're dealing with zip codes in your data analysis, here's a quick video that goes over the process of treating numbers like text. \\r\\n\\r\\n#licreatoraccelerator #linkedincreator #linkedincreatoraccelerator #datanalysis #datanalytics #yaads #datascience \\r\\n\""
      ]
     },
     "execution_count": 56,
     "metadata": {},
     "output_type": "execute_result"
    }
   ],
   "source": [
    "summary_posts[1]"
   ]
  },
  {
   "cell_type": "code",
   "execution_count": 38,
   "metadata": {},
   "outputs": [],
   "source": [
    "#Create your own local directory and store the key file from openai\n",
    "key = open(\"./.config/openai.key\").read()"
   ]
  },
  {
   "cell_type": "code",
   "execution_count": 73,
   "metadata": {},
   "outputs": [],
   "source": [
    "# Load your API key from an environment variable or secret management service\n",
    "openai.api_key = key\n",
    "\n",
    "# send a Completion request to count to 100\n",
    "\n",
    "# def curie_summarize(p):\n",
    "response = openai.Completion.create(\n",
    "    model='text-curie-001',\n",
    "    prompt= summary_posts[1], #p,\n",
    "    max_tokens=100,\n",
    "    temperature=0,\n",
    "    stream=False,  # this time, we set stream=True\n",
    ")\n",
    "    # return(response)\n",
    "\n",
    "\n",
    "# # create variables to collect the stream of events\n",
    "collected_prompts = []\n",
    "# # iterate through posts\n",
    "for post in summary_posts:\n",
    "    # print(post)\n",
    "    response = openai.Completion.create(\n",
    "        model='text-curie-001',\n",
    "        prompt= f'\"{post}\"', #p,\n",
    "        max_tokens=100,\n",
    "        temperature=0,\n",
    "        stream=False,  # this time, we set stream=True\n",
    "    )\n",
    "#     res = curie_summarize(f'\"{post}\"')\n",
    "    collected_prompts.append(response[\"choices\"][0][\"text\"])  # save the response\n",
    "\n"
   ]
  },
  {
   "cell_type": "code",
   "execution_count": 74,
   "metadata": {},
   "outputs": [],
   "source": [
    "sample_posts['prompt'] = collected_prompts\n"
   ]
  },
  {
   "cell_type": "code",
   "execution_count": 78,
   "metadata": {},
   "outputs": [],
   "source": [
    "sample_posts.to_json(\"./src/local_data/shares.jsonl\", orient='records', lines=True)"
   ]
  },
  {
   "attachments": {},
   "cell_type": "markdown",
   "metadata": {},
   "source": [
    "# Variations by platform\n",
    "Powershell\n",
    "`$env:OPENAI_API_KEY='{key}' ; penai tools fine_tunes.prepare_data -f ./src/local_data/shares.jsonl -q`\n",
    "\n",
    "Windows Command Line\n",
    "`!set OPENAI_API_KEY={key} && openai tools fine_tunes.prepare_data -f ./src/local_data/shares.jsonl -q`\n",
    "\n",
    "Linux Bash/Shell\n",
    "`export OPENAI_API_KEY='{key}' ; penai tools fine_tunes.prepare_data -f ./src/local_data/shares.jsonl -q`"
   ]
  },
  {
   "cell_type": "code",
   "execution_count": null,
   "metadata": {},
   "outputs": [],
   "source": [
    "!set OPENAI_API_KEY={key} && openai tools fine_tunes.prepare_data -f ./src/local_data/shares.jsonl -q"
   ]
  }
 ],
 "metadata": {
  "kernelspec": {
   "display_name": "Python 3",
   "language": "python",
   "name": "python3"
  },
  "language_info": {
   "codemirror_mode": {
    "name": "ipython",
    "version": 3
   },
   "file_extension": ".py",
   "mimetype": "text/x-python",
   "name": "python",
   "nbconvert_exporter": "python",
   "pygments_lexer": "ipython3",
   "version": "3.11.0 (main, Oct 24 2022, 18:26:48) [MSC v.1933 64 bit (AMD64)]"
  },
  "orig_nbformat": 4,
  "vscode": {
   "interpreter": {
    "hash": "c261aea317cc0286b3b3261fbba9abdec21eaa57589985bb7a274bf54d6cc0a7"
   }
  }
 },
 "nbformat": 4,
 "nbformat_minor": 2
}
