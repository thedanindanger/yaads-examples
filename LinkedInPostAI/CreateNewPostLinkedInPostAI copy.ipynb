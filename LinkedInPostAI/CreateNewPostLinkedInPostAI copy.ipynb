{
 "cells": [
  {
   "cell_type": "code",
   "execution_count": 16,
   "metadata": {},
   "outputs": [],
   "source": [
    "import os\n",
    "import openai\n",
    "import pandas as pd\n",
    "\n",
    "import importlib\n",
    "import time \n"
   ]
  },
  {
   "attachments": {},
   "cell_type": "markdown",
   "metadata": {},
   "source": [
    "# Process\n",
    "```mermaid\n",
    "graph TD\n",
    "    A(Pull fine-tuned model from OpenAI) -->|OpenAI Ui| B(Post Prompt)\n",
    "    B -->|Notebook Utility| C(Fine-tuned response)\n",
    "```"
   ]
  },
  {
   "cell_type": "code",
   "execution_count": 17,
   "metadata": {},
   "outputs": [],
   "source": [
    "#Create your own local directory and store the key file from openai\n",
    "key = open(\"./.config/openai.key\").read()\n",
    "\n",
    "# Load your API key from an environment variable or secret management service\n",
    "openai.api_key = key"
   ]
  },
  {
   "cell_type": "code",
   "execution_count": 29,
   "metadata": {},
   "outputs": [],
   "source": [
    "#Model parameters\n",
    "ft_model = 'davinci:ft-theorylane-llc-2023-02-10-21-17-51'\n"
   ]
  },
  {
   "cell_type": "code",
   "execution_count": 45,
   "metadata": {},
   "outputs": [],
   "source": [
    "prompt = 'Write a long post about how watching cartoons helps with creativity.'"
   ]
  },
  {
   "cell_type": "code",
   "execution_count": 46,
   "metadata": {},
   "outputs": [],
   "source": [
    "\n",
    "\n",
    "# send a Completion request to count to 100\n",
    "\n",
    "response = openai.Completion.create(\n",
    "    model=ft_model,\n",
    "    prompt= prompt, #p,\n",
    "    stop = ['END'],\n",
    "    max_tokens=1000,\n",
    "    temperature=0,\n",
    "    stream=False,  # this time, we set stream=True\n",
    ")\n",
    "\n",
    "\n",
    "\n"
   ]
  },
  {
   "cell_type": "code",
   "execution_count": null,
   "metadata": {},
   "outputs": [],
   "source": [
    "print(response)\n"
   ]
  },
  {
   "cell_type": "code",
   "execution_count": null,
   "metadata": {},
   "outputs": [],
   "source": []
  }
 ],
 "metadata": {
  "kernelspec": {
   "display_name": "Python 3.10.6 ('selenium-env')",
   "language": "python",
   "name": "python3"
  },
  "language_info": {
   "codemirror_mode": {
    "name": "ipython",
    "version": 3
   },
   "file_extension": ".py",
   "mimetype": "text/x-python",
   "name": "python",
   "nbconvert_exporter": "python",
   "pygments_lexer": "ipython3",
   "version": "3.10.6"
  },
  "orig_nbformat": 4,
  "vscode": {
   "interpreter": {
    "hash": "248e2d58b0fcbd97b35fd3f490851ae64c9d1fad60bd06ccc6ae77d5d7414c4c"
   }
  }
 },
 "nbformat": 4,
 "nbformat_minor": 2
}
