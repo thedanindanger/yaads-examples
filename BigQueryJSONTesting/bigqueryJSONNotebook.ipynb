{
 "cells": [
  {
   "cell_type": "markdown",
   "metadata": {},
   "source": [
    "# Change JSON to JSON-in-CSV Format\n",
    "File format has to be strings of JSON arrays with newline separation\n",
    "\n",
    "## Load libraries"
   ]
  },
  {
   "cell_type": "code",
   "execution_count": 12,
   "metadata": {},
   "outputs": [],
   "source": [
    "import json\n",
    "import csv\n",
    "import os"
   ]
  },
  {
   "cell_type": "markdown",
   "metadata": {},
   "source": [
    "## Load data"
   ]
  },
  {
   "cell_type": "code",
   "execution_count": 2,
   "metadata": {},
   "outputs": [],
   "source": [
    "f = open('./rawJSON.json')\n",
    "jsonString = json.load(f)"
   ]
  },
  {
   "cell_type": "markdown",
   "metadata": {},
   "source": [
    "Loading JSON data with `json.load()` gives an array of JSON dictionaries."
   ]
  },
  {
   "cell_type": "code",
   "execution_count": 10,
   "metadata": {},
   "outputs": [
    {
     "name": "stdout",
     "output_type": "stream",
     "text": [
      "{'_id': '622a246457385c7597960660', 'index': 0, 'guid': '3d628606-766f-4dfa-abff-e61750547b12', 'isActive': False, 'balance': '$3,405.09', 'picture': 'http://placehold.it/32x32', 'age': 24, 'eyeColor': 'brown', 'name': 'Terry Harvey', 'gender': 'male', 'company': 'TROLLERY', 'email': 'terryharvey@trollery.com', 'phone': '+1 (892) 485-3715', 'address': '919 High Street, Enetai, Virgin Islands, 3063', 'about': 'Consequat consectetur mollit nulla cupidatat. Est aliquip cupidatat mollit non in voluptate deserunt irure veniam voluptate amet reprehenderit est irure. Ullamco id ullamco eu deserunt consectetur. Veniam deserunt qui elit ipsum Lorem non do dolor commodo mollit do pariatur.\\r\\n', 'registered': '2017-08-14T08:43:35 +05:00', 'latitude': 68.666876, 'longitude': -130.039902, 'tags': ['id', 'anim', 'consequat', 'cupidatat', 'qui', 'pariatur', 'sint'], 'friends': [{'id': 0, 'name': 'Hillary Brooks'}, {'id': 1, 'name': 'Johns Vega'}, {'id': 2, 'name': 'Sexton Chambers'}], 'greeting': 'Hello, Terry Harvey! You have 7 unread messages.', 'favoriteFruit': 'apple'}\n"
     ]
    }
   ],
   "source": [
    "print(jsonString[0])"
   ]
  },
  {
   "cell_type": "markdown",
   "metadata": {},
   "source": [
    "## Write to csv\n",
    "With the JSON as an array of dictionaries, all we need to do is load the json array row by row, convert each row into a string, then write into a csv - with a few small adjustments.\n",
    "\n",
    "For the CSV to interpret the JSON as a single string, we need to wrap it in double quotes.\n",
    "\n",
    "For the CSV to interpret each JSON string as a new row, we use `os.linesep` to add a line break at the end of our JSON string.\n",
    "\n",
    "For BigQuery to read the string, all quotes need to be double quotes."
   ]
  },
  {
   "cell_type": "code",
   "execution_count": 59,
   "metadata": {},
   "outputs": [
    {
     "name": "stdout",
     "output_type": "stream",
     "text": [
      "{'_id': '622a246457385c7597960660', 'index': 0, 'guid': '3d628606-766f-4dfa-abff-e61750547b12', 'isActive': False, 'balance': '$3,405.09', 'picture': 'http://placehold.it/32x32', 'age': 24, 'eyeColor': 'brown', 'name': 'Terry Harvey', 'gender': 'male', 'company': 'TROLLERY', 'email': 'terryharvey@trollery.com', 'phone': '+1 (892) 485-3715', 'address': '919 High Street, Enetai, Virgin Islands, 3063', 'about': 'Consequat consectetur mollit nulla cupidatat. Est aliquip cupidatat mollit non in voluptate deserunt irure veniam voluptate amet reprehenderit est irure. Ullamco id ullamco eu deserunt consectetur. Veniam deserunt qui elit ipsum Lorem non do dolor commodo mollit do pariatur.\\r\\n', 'registered': '2017-08-14T08:43:35 +05:00', 'latitude': 68.666876, 'longitude': -130.039902, 'tags': ['id', 'anim', 'consequat', 'cupidatat', 'qui', 'pariatur', 'sint'], 'friends': [{'id': 0, 'name': 'Hillary Brooks'}, {'id': 1, 'name': 'Johns Vega'}, {'id': 2, 'name': 'Sexton Chambers'}], 'greeting': 'Hello, Terry Harvey! You have 7 unread messages.', 'favoriteFruit': 'apple'}\n",
      "{'_id': '622a246455d1fcda294a7b38', 'index': 1, 'guid': '5d2b5eb7-60a4-45b4-a11f-a8f55820b419', 'isActive': True, 'balance': '$2,969.20', 'picture': 'http://placehold.it/32x32', 'age': 27, 'eyeColor': 'green', 'name': 'Christy Walsh', 'gender': 'female', 'company': 'GLASSTEP', 'email': 'christywalsh@glasstep.com', 'phone': '+1 (871) 565-3635', 'address': '159 Vandam Street, Nicut, Connecticut, 2147', 'about': 'Amet nisi duis nostrud quis. Nisi dolor amet Lorem quis minim adipisicing eu deserunt. Elit magna cupidatat tempor culpa minim do qui aute dolor irure est officia dolore. Ipsum minim sunt voluptate nostrud non eu deserunt minim fugiat esse minim consectetur.\\r\\n', 'registered': '2019-08-20T12:01:39 +05:00', 'latitude': -4.041521, 'longitude': 143.309172, 'tags': ['ea', 'sit', 'officia', 'irure', 'proident', 'est', 'ex'], 'friends': [{'id': 0, 'name': 'Lillian Sims'}, {'id': 1, 'name': 'Harvey Mcgowan'}, {'id': 2, 'name': 'Lindsey Cobb'}], 'greeting': 'Hello, Christy Walsh! You have 5 unread messages.', 'favoriteFruit': 'apple'}\n",
      "{'_id': '622a2464b45b63d2d38e8315', 'index': 2, 'guid': '00aee2d1-3343-47a1-9495-df6fa2f2008a', 'isActive': False, 'balance': '$1,061.62', 'picture': 'http://placehold.it/32x32', 'age': 30, 'eyeColor': 'brown', 'name': 'Talley Herring', 'gender': 'male', 'company': 'HIVEDOM', 'email': 'talleyherring@hivedom.com', 'phone': '+1 (874) 417-3916', 'address': '298 Cambridge Place, Nutrioso, Nevada, 7591', 'about': 'Pariatur ea consequat anim dolor est id labore exercitation eiusmod. Exercitation adipisicing labore labore aute cupidatat adipisicing nulla amet adipisicing. Mollit laboris irure esse eiusmod mollit laborum nostrud consectetur. Aliquip nulla do quis non veniam occaecat exercitation laborum id nulla tempor pariatur incididunt consectetur. Duis cillum reprehenderit sit sit commodo consectetur id sunt cupidatat dolore labore eiusmod excepteur.\\r\\n', 'registered': '2018-02-28T04:29:29 +06:00', 'latitude': -8.981699, 'longitude': 27.349493, 'tags': ['reprehenderit', 'velit', 'aliquip', 'tempor', 'ut', 'voluptate', 'qui'], 'friends': [{'id': 0, 'name': 'Nelson Day'}, {'id': 1, 'name': 'Fran Knapp'}, {'id': 2, 'name': 'Luisa Jenkins'}], 'greeting': 'Hello, Talley Herring! You have 1 unread messages.', 'favoriteFruit': 'apple'}\n",
      "{'_id': '622a246429e1871909511ea1', 'index': 3, 'guid': 'a315bcd4-0b23-4e41-af95-f1fd52b55166', 'isActive': True, 'balance': '$3,978.13', 'picture': 'http://placehold.it/32x32', 'age': 38, 'eyeColor': 'green', 'name': 'Hammond Ellis', 'gender': 'male', 'company': 'GEEKETRON', 'email': 'hammondellis@geeketron.com', 'phone': '+1 (875) 450-2285', 'address': '876 Flatlands Avenue, Smeltertown, Oregon, 7273', 'about': 'Aliqua in consectetur in Lorem consectetur est minim in quis culpa nostrud velit. Amet anim officia incididunt laborum. Velit nostrud est nostrud sint aute dolor incididunt ad eu sint. Aliqua aliquip amet laboris sunt. Quis enim officia eiusmod dolor. Sint mollit id proident commodo. Reprehenderit culpa aliquip tempor exercitation est officia veniam adipisicing commodo aliqua cupidatat eu sunt.\\r\\n', 'registered': '2018-11-22T04:29:06 +06:00', 'latitude': 40.361469, 'longitude': 119.223202, 'tags': ['cillum', 'consectetur', 'cillum', 'ea', 'do', 'officia', 'quis'], 'friends': [{'id': 0, 'name': 'Rodgers Nunez'}, {'id': 1, 'name': 'Jerry Ramos'}, {'id': 2, 'name': 'Schultz Schultz'}], 'greeting': 'Hello, Hammond Ellis! You have 10 unread messages.', 'favoriteFruit': 'apple'}\n",
      "{'_id': '622a246404e82ab3113b7659', 'index': 4, 'guid': 'ffc2d05d-14fa-4fae-916d-3ff0c777fffa', 'isActive': True, 'balance': '$2,776.53', 'picture': 'http://placehold.it/32x32', 'age': 22, 'eyeColor': 'brown', 'name': 'Silvia Wiggins', 'gender': 'female', 'company': 'FROSNEX', 'email': 'silviawiggins@frosnex.com', 'phone': '+1 (940) 453-2857', 'address': '211 Brown Street, Ballico, Tennessee, 5872', 'about': 'Enim veniam eiusmod amet do excepteur nulla id deserunt Lorem ea et Lorem nisi. Elit nisi quis ipsum adipisicing laborum adipisicing aliqua sunt eu officia excepteur. Ex labore consectetur voluptate pariatur et labore enim irure nisi. Eu aliquip et dolor voluptate enim sunt ex ea voluptate labore magna eiusmod magna culpa. Aute incididunt reprehenderit ut excepteur anim elit laborum cupidatat dolor et aliqua. Commodo consequat nisi nisi officia occaecat cillum Lorem id in in fugiat officia tempor sunt. Incididunt ipsum sit laborum id adipisicing duis aliqua occaecat.\\r\\n', 'registered': '2020-10-15T04:47:35 +05:00', 'latitude': 12.479643, 'longitude': 158.847229, 'tags': ['dolore', 'consectetur', 'nisi', 'proident', 'et', 'ex', 'amet'], 'friends': [{'id': 0, 'name': 'Jarvis Ball'}, {'id': 1, 'name': 'Rhonda Ferguson'}, {'id': 2, 'name': 'Colon Kelley'}], 'greeting': 'Hello, Silvia Wiggins! You have 3 unread messages.', 'favoriteFruit': 'strawberry'}\n",
      "{'_id': '622a24646e014f88bb009a47', 'index': 5, 'guid': '9dd2c44e-217d-4500-8f6e-e446b3c7800a', 'isActive': False, 'balance': '$2,266.76', 'picture': 'http://placehold.it/32x32', 'age': 34, 'eyeColor': 'brown', 'name': 'Mabel Yates', 'gender': 'female', 'company': 'POOCHIES', 'email': 'mabelyates@poochies.com', 'phone': '+1 (842) 461-2523', 'address': '172 Bennet Court, Chamizal, Kentucky, 4805', 'about': 'Commodo excepteur laboris ut incididunt occaecat duis anim tempor ipsum sunt occaecat ad. Aute amet eiusmod officia pariatur commodo consectetur velit ex pariatur ex. Proident est ut officia excepteur cupidatat sit eu reprehenderit reprehenderit duis eu velit. Laborum commodo ad dolore laborum aliqua sit reprehenderit aute incididunt irure sit commodo.\\r\\n', 'registered': '2022-03-05T12:53:52 +06:00', 'latitude': -65.17781, 'longitude': 172.421629, 'tags': ['velit', 'aute', 'est', 'voluptate', 'nisi', 'et', 'commodo'], 'friends': [{'id': 0, 'name': 'Lola Bender'}, {'id': 1, 'name': 'Ethel Robertson'}, {'id': 2, 'name': 'Snow Myers'}], 'greeting': 'Hello, Mabel Yates! You have 7 unread messages.', 'favoriteFruit': 'banana'}\n",
      "{'_id': '622a246495e8b42ee77cf3e9', 'index': 6, 'guid': 'bca96de4-e3e1-477d-8a53-6daa8d4d222b', 'isActive': True, 'balance': '$2,013.46', 'picture': 'http://placehold.it/32x32', 'age': 20, 'eyeColor': 'blue', 'name': 'Mendez Gill', 'gender': 'male', 'company': 'UNQ', 'email': 'mendezgill@unq.com', 'phone': '+1 (805) 464-3124', 'address': '313 Troy Avenue, Elizaville, South Dakota, 8807', 'about': 'Sint minim minim eiusmod et adipisicing irure reprehenderit laborum culpa. Aliqua amet elit et in exercitation duis quis et aute fugiat sint aute. Voluptate consectetur consequat proident qui sunt culpa officia et consequat reprehenderit irure consequat. Et laborum velit laboris tempor aliquip quis. Fugiat duis nulla eiusmod velit commodo. Proident id laborum nisi veniam proident cillum exercitation.\\r\\n', 'registered': '2014-09-29T01:42:21 +05:00', 'latitude': -35.168195, 'longitude': -153.615331, 'tags': ['ullamco', 'anim', 'excepteur', 'reprehenderit', 'aliquip', 'proident', 'pariatur'], 'friends': [{'id': 0, 'name': 'Courtney Leblanc'}, {'id': 1, 'name': 'Camacho Emerson'}, {'id': 2, 'name': 'Wilcox Black'}], 'greeting': 'Hello, Mendez Gill! You have 1 unread messages.', 'favoriteFruit': 'apple'}\n"
     ]
    }
   ],
   "source": [
    "with open('./csvJSON.csv','w', newline='',  encoding='utf-8') as csvFile:\n",
    "    for i in jsonString:\n",
    "        print(i)\n",
    "        jsonStr = str(i)\n",
    "        #Change Bools to string\n",
    "        jsonStr = jsonStr.replace(\"True\", \"'True'\").replace(\"False\", \"'False'\")\n",
    "        #Make all single quotes into double double quotes\n",
    "        jsonStrQ = jsonStr.replace(\"'\", '\"\"')\n",
    "        #Wrap everything a a set of single double quotes to show it is text\n",
    "        csvFile.write('\"' + jsonStrQ + '\"' + os.linesep)\n",
    "#Close the file connection to the original JSON\n",
    "f.close()"
   ]
  },
  {
   "cell_type": "code",
   "execution_count": null,
   "metadata": {},
   "outputs": [],
   "source": []
  }
 ],
 "metadata": {
  "interpreter": {
   "hash": "0fec8a93c5625d8222bddb0dbc9a7c8756983cfd6c007fdeff8a03ee606331d4"
  },
  "kernelspec": {
   "display_name": "Python 3.7.0 ('stan_env')",
   "language": "python",
   "name": "python3"
  },
  "language_info": {
   "codemirror_mode": {
    "name": "ipython",
    "version": 3
   },
   "file_extension": ".py",
   "mimetype": "text/x-python",
   "name": "python",
   "nbconvert_exporter": "python",
   "pygments_lexer": "ipython3",
   "version": "3.7.0"
  },
  "orig_nbformat": 4
 },
 "nbformat": 4,
 "nbformat_minor": 2
}
