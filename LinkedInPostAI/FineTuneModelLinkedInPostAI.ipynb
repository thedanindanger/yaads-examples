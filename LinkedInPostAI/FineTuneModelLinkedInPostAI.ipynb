{
 "cells": [
  {
   "cell_type": "code",
   "execution_count": 56,
   "metadata": {},
   "outputs": [],
   "source": [
    "import os\n",
    "import openai\n",
    "import pandas as pd\n",
    "import importlib\n",
    "import time \n",
    "import re\n"
   ]
  },
  {
   "attachments": {},
   "cell_type": "markdown",
   "metadata": {},
   "source": [
    "# Process\n",
    "```mermaid\n",
    "graph TD\n",
    "    A(LinkedIn Export) -->|Python| B(Cleaned Posts)\n",
    "    B -->|OpenAI CLI| C(JSON Format Posts)\n",
    "    C -->|Curie| D(Summaries)\n",
    "    B -->|Python| E(Merged Posts + Summaries)\n",
    "    D -->|Python| E(Merged Posts + Summaries)\n",
    "    E -->|OpenAI CLI| F(JSON Post + Summaries)\n",
    "    F -->|Davinci fine tuning| G(Fine Tuned Model)\n",
    "```"
   ]
  },
  {
   "cell_type": "code",
   "execution_count": 2,
   "metadata": {},
   "outputs": [],
   "source": [
    "import src.utils.DataCleaning as dc\n"
   ]
  },
  {
   "cell_type": "code",
   "execution_count": 73,
   "metadata": {},
   "outputs": [
    {
     "data": {
      "text/html": [
       "<div>\n",
       "<style scoped>\n",
       "    .dataframe tbody tr th:only-of-type {\n",
       "        vertical-align: middle;\n",
       "    }\n",
       "\n",
       "    .dataframe tbody tr th {\n",
       "        vertical-align: top;\n",
       "    }\n",
       "\n",
       "    .dataframe thead th {\n",
       "        text-align: right;\n",
       "    }\n",
       "</style>\n",
       "<table border=\"1\" class=\"dataframe\">\n",
       "  <thead>\n",
       "    <tr style=\"text-align: right;\">\n",
       "      <th></th>\n",
       "      <th>Date</th>\n",
       "      <th>ShareLink</th>\n",
       "      <th>ShareCommentary</th>\n",
       "      <th>SharedURL</th>\n",
       "      <th>MediaURL</th>\n",
       "      <th>Visibility</th>\n",
       "    </tr>\n",
       "  </thead>\n",
       "  <tbody>\n",
       "    <tr>\n",
       "      <th>0</th>\n",
       "      <td>12/1/2022 23:00</td>\n",
       "      <td>https://www.linkedin.com/feed/update/urn%3Ali%...</td>\n",
       "      <td>If the VA wants to hire laid off tech workers,...</td>\n",
       "      <td>NaN</td>\n",
       "      <td>NaN</td>\n",
       "      <td>MEMBER_NETWORK</td>\n",
       "    </tr>\n",
       "    <tr>\n",
       "      <th>1</th>\n",
       "      <td>11/23/2022 16:42</td>\n",
       "      <td>https://www.linkedin.com/feed/update/urn%3Ali%...</td>\n",
       "      <td>If you're dealing with zip codes in your data ...</td>\n",
       "      <td>NaN</td>\n",
       "      <td>NaN</td>\n",
       "      <td>MEMBER_NETWORK</td>\n",
       "    </tr>\n",
       "    <tr>\n",
       "      <th>2</th>\n",
       "      <td>11/22/2022 15:52</td>\n",
       "      <td>https://www.linkedin.com/feed/update/urn%3Ali%...</td>\n",
       "      <td>How to create content when you have #ADHD:\"\\r\\...</td>\n",
       "      <td>NaN</td>\n",
       "      <td>NaN</td>\n",
       "      <td>MEMBER_NETWORK</td>\n",
       "    </tr>\n",
       "    <tr>\n",
       "      <th>3</th>\n",
       "      <td>11/22/2022 14:54</td>\n",
       "      <td>https://www.linkedin.com/feed/update/urn%3Ali%...</td>\n",
       "      <td>Unless content creation is your career,  being...</td>\n",
       "      <td>NaN</td>\n",
       "      <td>NaN</td>\n",
       "      <td>MEMBER_NETWORK</td>\n",
       "    </tr>\n",
       "    <tr>\n",
       "      <th>4</th>\n",
       "      <td>11/18/2022 20:41</td>\n",
       "      <td>https://www.linkedin.com/feed/update/urn%3Ali%...</td>\n",
       "      <td>I DIDN'T REALIZE THE QUOTE WAS FROM THE BANKRU...</td>\n",
       "      <td>NaN</td>\n",
       "      <td>NaN</td>\n",
       "      <td>MEMBER_NETWORK</td>\n",
       "    </tr>\n",
       "  </tbody>\n",
       "</table>\n",
       "</div>"
      ],
      "text/plain": [
       "               Date                                          ShareLink  \\\n",
       "0   12/1/2022 23:00  https://www.linkedin.com/feed/update/urn%3Ali%...   \n",
       "1  11/23/2022 16:42  https://www.linkedin.com/feed/update/urn%3Ali%...   \n",
       "2  11/22/2022 15:52  https://www.linkedin.com/feed/update/urn%3Ali%...   \n",
       "3  11/22/2022 14:54  https://www.linkedin.com/feed/update/urn%3Ali%...   \n",
       "4  11/18/2022 20:41  https://www.linkedin.com/feed/update/urn%3Ali%...   \n",
       "\n",
       "                                     ShareCommentary SharedURL MediaURL  \\\n",
       "0  If the VA wants to hire laid off tech workers,...       NaN      NaN   \n",
       "1  If you're dealing with zip codes in your data ...       NaN      NaN   \n",
       "2  How to create content when you have #ADHD:\"\\r\\...       NaN      NaN   \n",
       "3  Unless content creation is your career,  being...       NaN      NaN   \n",
       "4  I DIDN'T REALIZE THE QUOTE WAS FROM THE BANKRU...       NaN      NaN   \n",
       "\n",
       "       Visibility  \n",
       "0  MEMBER_NETWORK  \n",
       "1  MEMBER_NETWORK  \n",
       "2  MEMBER_NETWORK  \n",
       "3  MEMBER_NETWORK  \n",
       "4  MEMBER_NETWORK  "
      ]
     },
     "execution_count": 73,
     "metadata": {},
     "output_type": "execute_result"
    }
   ],
   "source": [
    "importlib.reload(dc)\n",
    "#testing\n",
    "shares = dc.loadLinkedInSharesData('./src/local_data/shares.csv')\n",
    "shares.head()"
   ]
  },
  {
   "cell_type": "code",
   "execution_count": 77,
   "metadata": {},
   "outputs": [],
   "source": [
    "shares = shares[shares[\"ShareCommentary\"].str.len() > 10]"
   ]
  },
  {
   "cell_type": "code",
   "execution_count": 64,
   "metadata": {},
   "outputs": [],
   "source": [
    "def remove_url(post):\n",
    "    no_url_post = re.sub(r'((https|http)?:\\/\\/)(\\s)*(www\\.)?(\\s)*((\\w|\\s)+\\.)*([\\w\\-\\s]+\\/)*([\\w\\-]+)((\\?)?[\\w\\s]*=\\s*[\\w\\%&]*)*','', post)\n",
    "    return(no_url_post)"
   ]
  },
  {
   "cell_type": "code",
   "execution_count": null,
   "metadata": {},
   "outputs": [],
   "source": []
  },
  {
   "cell_type": "code",
   "execution_count": 84,
   "metadata": {},
   "outputs": [],
   "source": [
    "#build workflow for cleaning\n",
    "##only need ShareCommentary field\n",
    "sample_posts = pd.DataFrame(columns=['prompt', 'completion'])\n",
    "sample_posts['completion'] = shares['ShareCommentary'].apply(lambda x: remove_url(x) )\n",
    "sample_posts['completion'] = sample_posts['completion'].str.translate(str.maketrans('', '', '\",:')).str.strip()\n",
    "\n",
    "\n",
    "## output has strange double quotes around each line, eventually we can try to identify intended quotes, but for now, we'll get rid of all of them\n"
   ]
  },
  {
   "cell_type": "code",
   "execution_count": 85,
   "metadata": {},
   "outputs": [
    {
     "data": {
      "text/plain": [
       "\"I feel it is a good decision for fb to branch into physical devices; however oculus' core product offering (games) has been developed by the open source community. Now we ate already seeing a developer back lash.  Do you think FB will regret this acquisition?\""
      ]
     },
     "execution_count": 85,
     "metadata": {},
     "output_type": "execute_result"
    }
   ],
   "source": [
    "sample_posts['completion'][130]"
   ]
  },
  {
   "cell_type": "code",
   "execution_count": 86,
   "metadata": {},
   "outputs": [],
   "source": [
    "# Now a series of 'prompts' asking to summarize the linked in posts as a chatgpt3 prompt.\n",
    "\n",
    "summarize_prefix = \"Give a one sentence summary of the following linkedin post: \\r\\n \"\n",
    "\n",
    "summary_posts = summarize_prefix + sample_posts['completion'] \n"
   ]
  },
  {
   "cell_type": "code",
   "execution_count": 87,
   "metadata": {},
   "outputs": [
    {
     "data": {
      "text/plain": [
       "\"Give a one sentence summary of the following linkedin post: \\r\\n If you're dealing with zip codes in your data analysis here's a quick video that goes over the process of treating numbers like text. \\r\\n\\r\\n#licreatoraccelerator #linkedincreator #linkedincreatoraccelerator #datanalysis #datanalytics #yaads #datascience\""
      ]
     },
     "execution_count": 87,
     "metadata": {},
     "output_type": "execute_result"
    }
   ],
   "source": [
    "summary_posts[1]"
   ]
  },
  {
   "cell_type": "code",
   "execution_count": 88,
   "metadata": {},
   "outputs": [],
   "source": [
    "#Create your own local directory and store the key file from openai\n",
    "key = open(\"./.config/openai.key\").read()"
   ]
  },
  {
   "cell_type": "code",
   "execution_count": 89,
   "metadata": {},
   "outputs": [],
   "source": [
    "# Load your API key from an environment variable or secret management service\n",
    "openai.api_key = key\n",
    "\n",
    "# send a Completion request to count to 100\n",
    "\n",
    "# def curie_summarize(p):\n",
    "response = openai.Completion.create(\n",
    "    model='text-davinci-003',\n",
    "    prompt= summary_posts[1], #p,\n",
    "    max_tokens=100,\n",
    "    temperature=0,\n",
    "    stream=False,  # this time, we set stream=True\n",
    ")\n",
    "    # return(response)\n",
    "\n",
    "\n",
    "\n",
    "\n"
   ]
  },
  {
   "cell_type": "code",
   "execution_count": 93,
   "metadata": {},
   "outputs": [],
   "source": [
    "# # create variables to collect the stream of events\n",
    "collected_prompts = []\n",
    "# # iterate through posts\n",
    "for post in summary_posts:\n",
    "    # print(post)\n",
    "    response = openai.Completion.create(\n",
    "        model='text-davinci-003',\n",
    "        prompt= post.strip(), #p,\n",
    "        max_tokens=500,\n",
    "        temperature=0,\n",
    "        stream=False,  # this time, we set stream=True\n",
    "    )\n",
    "#     res = curie_summarize(f'\"{post}\"')\n",
    "    collected_prompts.append(response[\"choices\"][0][\"text\"].strip())  # save the response"
   ]
  },
  {
   "cell_type": "code",
   "execution_count": 95,
   "metadata": {},
   "outputs": [],
   "source": [
    "sample_posts['prompt'] = collected_prompts\n"
   ]
  },
  {
   "cell_type": "code",
   "execution_count": null,
   "metadata": {},
   "outputs": [],
   "source": [
    "sample_posts.to_csv(\"./src/local_data/shares2_clean.csv\")"
   ]
  },
  {
   "cell_type": "code",
   "execution_count": 96,
   "metadata": {},
   "outputs": [],
   "source": [
    "sample_posts.to_json(\"./src/local_data/shares2.jsonl\", orient='records', lines=True)"
   ]
  },
  {
   "attachments": {},
   "cell_type": "markdown",
   "metadata": {},
   "source": [
    "# Variations by platform\n",
    "Powershell\n",
    "`$env:OPENAI_API_KEY='{key}' ; openai tools fine_tunes.prepare_data -f ./src/local_data/shares.jsonl -q`\n",
    "\n",
    "Windows Command Line\n",
    "`!set OPENAI_API_KEY={key} && openai tools fine_tunes.prepare_data -f ./src/local_data/shares.jsonl -q`\n",
    "\n",
    "Linux Bash/Shell\n",
    "`export OPENAI_API_KEY='{key}' ; openai tools fine_tunes.prepare_data -f ./src/local_data/shares.jsonl -q`"
   ]
  },
  {
   "cell_type": "code",
   "execution_count": null,
   "metadata": {},
   "outputs": [],
   "source": [
    "!set OPENAI_API_KEY={key} && openai tools fine_tunes.prepare_data -f ./src/local_data/shares2.jsonl -q"
   ]
  },
  {
   "cell_type": "code",
   "execution_count": null,
   "metadata": {},
   "outputs": [],
   "source": [
    "!set OPENAI_API_KEY={key} && openai api fine_tunes.create -t ./src/local_data/shares2_prepared.jsonl -m davinci"
   ]
  }
 ],
 "metadata": {
  "kernelspec": {
   "display_name": "Python 3.10.6 ('selenium-env')",
   "language": "python",
   "name": "python3"
  },
  "language_info": {
   "codemirror_mode": {
    "name": "ipython",
    "version": 3
   },
   "file_extension": ".py",
   "mimetype": "text/x-python",
   "name": "python",
   "nbconvert_exporter": "python",
   "pygments_lexer": "ipython3",
   "version": "3.10.6"
  },
  "orig_nbformat": 4,
  "vscode": {
   "interpreter": {
    "hash": "248e2d58b0fcbd97b35fd3f490851ae64c9d1fad60bd06ccc6ae77d5d7414c4c"
   }
  }
 },
 "nbformat": 4,
 "nbformat_minor": 2
}
